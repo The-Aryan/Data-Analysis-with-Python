{
 "cells": [
  {
   "cell_type": "code",
   "execution_count": 40,
   "metadata": {},
   "outputs": [],
   "source": [
    "# %config Completer.use_jedi = False\n",
    "import pandas as pd"
   ]
  },
  {
   "cell_type": "markdown",
   "metadata": {},
   "source": [
    "## Importing datasets"
   ]
  },
  {
   "cell_type": "code",
   "execution_count": 41,
   "metadata": {},
   "outputs": [],
   "source": [
    "pokemon_orig = pd.read_csv(\"../Resources/pokemon.csv\", usecols=[\"Pokemon\"]).squeeze()\n",
    "google_orig = pd.read_csv(\"../Resources/google_stock_price.csv\", usecols=[\"Stock Price\"]).squeeze()\n",
    "pokemon_index_orig = pd.read_csv(\"../Resources/pokemon.csv\", index_col=\"Pokemon\").squeeze()"
   ]
  },
  {
   "cell_type": "markdown",
   "metadata": {},
   "source": [
    "## Create a Series Object from a List\n"
   ]
  },
  {
   "cell_type": "code",
   "execution_count": 42,
   "metadata": {},
   "outputs": [
    {
     "data": {
      "text/plain": [
       "0     Chocolate\n",
       "1       Vanilla\n",
       "2    Strawberry\n",
       "3    Rum Raisin\n",
       "dtype: object"
      ]
     },
     "execution_count": 42,
     "metadata": {},
     "output_type": "execute_result"
    }
   ],
   "source": [
    "ice_cream = [\"Chocolate\", \"Vanilla\", \"Strawberry\", \"Rum Raisin\"]\n",
    "pd.Series(ice_cream)"
   ]
  },
  {
   "cell_type": "code",
   "execution_count": 43,
   "metadata": {},
   "outputs": [
    {
     "data": {
      "text/plain": [
       "0     4\n",
       "1     8\n",
       "2    16\n",
       "3    15\n",
       "4    32\n",
       "5    34\n",
       "dtype: int64"
      ]
     },
     "execution_count": 43,
     "metadata": {},
     "output_type": "execute_result"
    }
   ],
   "source": [
    "lottery = [4, 8, 16, 15, 32, 34]\n",
    "pd.Series(lottery)"
   ]
  },
  {
   "cell_type": "markdown",
   "metadata": {},
   "source": [
    "## Create a Series Object from a Dictionary\n"
   ]
  },
  {
   "cell_type": "code",
   "execution_count": 44,
   "metadata": {
    "scrolled": true
   },
   "outputs": [
    {
     "data": {
      "text/plain": [
       "Salmon    Orange\n",
       "Tuna         Red\n",
       "Eal        Brown\n",
       "dtype: object"
      ]
     },
     "execution_count": 44,
     "metadata": {},
     "output_type": "execute_result"
    }
   ],
   "source": [
    "sushi = {\n",
    "    \"Salmon\": \"Orange\",\n",
    "    \"Tuna\": \"Red\",\n",
    "    \"Eal\": \"Brown\"\n",
    "}\n",
    "pd.Series(sushi)"
   ]
  },
  {
   "cell_type": "markdown",
   "metadata": {},
   "source": [
    "## Intro to Methods\n"
   ]
  },
  {
   "cell_type": "code",
   "execution_count": 45,
   "metadata": {},
   "outputs": [
    {
     "data": {
      "text/plain": [
       "0    2.99\n",
       "1    4.45\n",
       "2    1.36\n",
       "dtype: float64"
      ]
     },
     "execution_count": 45,
     "metadata": {},
     "output_type": "execute_result"
    }
   ],
   "source": [
    "prices = pd.Series([2.99, 4.45, 1.36])\n",
    "prices"
   ]
  },
  {
   "cell_type": "code",
   "execution_count": 46,
   "metadata": {},
   "outputs": [
    {
     "name": "stdout",
     "output_type": "stream",
     "text": [
      "8.8\n",
      "18.095480000000006\n"
     ]
    },
    {
     "data": {
      "text/plain": [
       "2.9333333333333336"
      ]
     },
     "execution_count": 46,
     "metadata": {},
     "output_type": "execute_result"
    }
   ],
   "source": [
    "print(prices.sum())\n",
    "print(prices.product())\n",
    "prices.mean()"
   ]
  },
  {
   "cell_type": "markdown",
   "metadata": {},
   "source": [
    "## Intro to Attributes\n"
   ]
  },
  {
   "cell_type": "code",
   "execution_count": 47,
   "metadata": {},
   "outputs": [
    {
     "data": {
      "text/plain": [
       "0        Smart\n",
       "1     Handsome\n",
       "2     Charming\n",
       "3    Brilliant\n",
       "4       Humble\n",
       "dtype: object"
      ]
     },
     "execution_count": 47,
     "metadata": {},
     "output_type": "execute_result"
    }
   ],
   "source": [
    "adjectives = pd.Series([\"Smart\", \"Handsome\", \"Charming\", \"Brilliant\", \"Humble\"])\n",
    "adjectives"
   ]
  },
  {
   "cell_type": "code",
   "execution_count": 48,
   "metadata": {},
   "outputs": [
    {
     "name": "stdout",
     "output_type": "stream",
     "text": [
      "5\n",
      "True\n",
      "['Smart' 'Handsome' 'Charming' 'Brilliant' 'Humble']\n",
      "RangeIndex(start=0, stop=5, step=1)\n"
     ]
    },
    {
     "data": {
      "text/plain": [
       "dtype('O')"
      ]
     },
     "execution_count": 48,
     "metadata": {},
     "output_type": "execute_result"
    }
   ],
   "source": [
    "print(adjectives.size)\n",
    "print(adjectives.is_unique)\n",
    "print(adjectives.values)\n",
    "print(adjectives.index)\n",
    "adjectives.dtype"
   ]
  },
  {
   "cell_type": "markdown",
   "metadata": {},
   "source": [
    "## Parameters and Arguments\n"
   ]
  },
  {
   "cell_type": "code",
   "execution_count": 49,
   "metadata": {},
   "outputs": [
    {
     "data": {
      "text/plain": [
       "Monday           Apple\n",
       "Tuesday         Orange\n",
       "Wednesday         Plum\n",
       "Thursday         Grape\n",
       "Friday       Blueberry\n",
       "dtype: object"
      ]
     },
     "execution_count": 49,
     "metadata": {},
     "output_type": "execute_result"
    }
   ],
   "source": [
    "fruits = [\"Apple\", \"Orange\", \"Plum\", \"Grape\", \"Blueberry\"]\n",
    "weekdays = [\"Monday\", \"Tuesday\", \"Wednesday\", \"Thursday\", \"Friday\"]\n",
    "\n",
    "pd.Series(fruits, weekdays)\n",
    "pd.Series(data=fruits, index=weekdays)"
   ]
  },
  {
   "cell_type": "markdown",
   "metadata": {},
   "source": [
    "## Import Series with the `pd.read_csv()` Function\n"
   ]
  },
  {
   "cell_type": "code",
   "execution_count": 50,
   "metadata": {},
   "outputs": [
    {
     "data": {
      "text/plain": [
       "0       Bulbasaur\n",
       "1         Ivysaur\n",
       "2        Venusaur\n",
       "3      Charmander\n",
       "4      Charmeleon\n",
       "          ...    \n",
       "716       Yveltal\n",
       "717       Zygarde\n",
       "718       Diancie\n",
       "719         Hoopa\n",
       "720     Volcanion\n",
       "Name: Pokemon, Length: 721, dtype: object"
      ]
     },
     "execution_count": 50,
     "metadata": {},
     "output_type": "execute_result"
    }
   ],
   "source": [
    "pokemon = pd.read_csv(\"../Resources/pokemon.csv\")\n",
    "pokemon = pokemon_orig\n",
    "pokemon"
   ]
  },
  {
   "cell_type": "code",
   "execution_count": 51,
   "metadata": {},
   "outputs": [
    {
     "data": {
      "text/plain": [
       "0        50.12\n",
       "1        54.10\n",
       "2        54.65\n",
       "3        52.38\n",
       "4        52.95\n",
       "         ...  \n",
       "3007    772.88\n",
       "3008    771.07\n",
       "3009    773.18\n",
       "3010    771.61\n",
       "3011    782.22\n",
       "Name: Stock Price, Length: 3012, dtype: float64"
      ]
     },
     "execution_count": 51,
     "metadata": {},
     "output_type": "execute_result"
    }
   ],
   "source": [
    "google = google_orig\n",
    "google"
   ]
  },
  {
   "cell_type": "markdown",
   "metadata": {},
   "source": [
    "## The `.head()` and `.tail()` Method\n"
   ]
  },
  {
   "cell_type": "code",
   "execution_count": 52,
   "metadata": {},
   "outputs": [],
   "source": [
    "pokemon = pokemon_orig\n",
    "google = google_orig"
   ]
  },
  {
   "cell_type": "code",
   "execution_count": 53,
   "metadata": {},
   "outputs": [
    {
     "name": "stdout",
     "output_type": "stream",
     "text": [
      "0     Bulbasaur\n",
      "1       Ivysaur\n",
      "2      Venusaur\n",
      "3    Charmander\n",
      "4    Charmeleon\n",
      "Name: Pokemon, dtype: object\n"
     ]
    },
    {
     "data": {
      "text/plain": [
       "3007    772.88\n",
       "3008    771.07\n",
       "3009    773.18\n",
       "3010    771.61\n",
       "3011    782.22\n",
       "Name: Stock Price, dtype: float64"
      ]
     },
     "execution_count": 53,
     "metadata": {},
     "output_type": "execute_result"
    }
   ],
   "source": [
    "print(pokemon.head())\n",
    "google.tail()"
   ]
  },
  {
   "cell_type": "markdown",
   "metadata": {},
   "source": [
    "## Passing Series to Python's Built-In Functions\n"
   ]
  },
  {
   "cell_type": "code",
   "execution_count": 54,
   "metadata": {},
   "outputs": [
    {
     "name": "stdout",
     "output_type": "stream",
     "text": [
      "721\n",
      "<class 'pandas.core.series.Series'>\n",
      "<class 'list'>\n",
      "[54.1, 54.65, 52.38, 52.95, 53.9, 53.02, 50.95, 51.13, 50.07]\n",
      "782.22\n"
     ]
    },
    {
     "data": {
      "text/plain": [
       "'Abomasnow'"
      ]
     },
     "execution_count": 54,
     "metadata": {},
     "output_type": "execute_result"
    }
   ],
   "source": [
    "print(len(pokemon))\n",
    "print(type(pokemon))\n",
    "dir(pokemon)  # Returns attributes for the passed in object.\n",
    "sorted(pokemon)\n",
    "print(type(sorted(pokemon)))\n",
    "print(list(google)[1:10]) # Converts series into a list.\n",
    "dict(pokemon) # Converts series into a dictionary.\n",
    "\n",
    "# Series can have duplicate index labels.\n",
    "\n",
    "print(max(google))\n",
    "min(pokemon)"
   ]
  },
  {
   "cell_type": "markdown",
   "metadata": {},
   "source": [
    "## The `.sort_values()` Method\n"
   ]
  },
  {
   "cell_type": "code",
   "execution_count": 55,
   "metadata": {},
   "outputs": [
    {
     "data": {
      "text/plain": [
       "3011    782.22\n",
       "2859    776.60\n",
       "3009    773.18\n",
       "3007    772.88\n",
       "3010    771.61\n",
       "Name: Stock Price, dtype: float64"
      ]
     },
     "execution_count": 55,
     "metadata": {},
     "output_type": "execute_result"
    }
   ],
   "source": [
    "pokemon.sort_values().head()  # Index remains same\n",
    "google.sort_values(ascending=False).head()"
   ]
  },
  {
   "cell_type": "markdown",
   "metadata": {},
   "source": [
    "## The `.sort_index()` Method\n"
   ]
  },
  {
   "cell_type": "code",
   "execution_count": 56,
   "metadata": {},
   "outputs": [
    {
     "data": {
      "text/plain": [
       "Pokemon\n",
       "Abomasnow      Grass\n",
       "Abra         Psychic\n",
       "Absol           Dark\n",
       "Accelgor         Bug\n",
       "Aegislash      Steel\n",
       "              ...   \n",
       "Zoroark         Dark\n",
       "Zorua           Dark\n",
       "Zubat         Poison\n",
       "Zweilous        Dark\n",
       "Zygarde       Dragon\n",
       "Name: Type, Length: 721, dtype: object"
      ]
     },
     "execution_count": 56,
     "metadata": {},
     "output_type": "execute_result"
    }
   ],
   "source": [
    "pokemon_with_index = pokemon_index_orig\n",
    "pokemon_with_index.sort_index()"
   ]
  },
  {
   "cell_type": "markdown",
   "metadata": {},
   "source": [
    "## Check for Inclusion with Python's `in` Keyword\n"
   ]
  },
  {
   "cell_type": "code",
   "execution_count": 57,
   "metadata": {},
   "outputs": [
    {
     "name": "stdout",
     "output_type": "stream",
     "text": [
      "True\n",
      "True\n",
      "False\n",
      "True\n",
      "['Ivysaur' 'Venusaur' 'Charmander' 'Charmeleon' 'Charizard' 'Squirtle'\n",
      " 'Wartortle' 'Blastoise' 'Caterpie']\n"
     ]
    },
    {
     "data": {
      "text/plain": [
       "True"
      ]
     },
     "execution_count": 57,
     "metadata": {},
     "output_type": "execute_result"
    }
   ],
   "source": [
    "print(\"car\" in \"racecar\")\n",
    "print(2 in [1, 2, 3])\n",
    "print(\"Bulbasaur\" in pokemon)\n",
    "print(100 in pokemon)\n",
    "      \n",
    "# By default given value is checked in Series index and not in the series Values\n",
    "# 100 in pokemon is same as writing 100 in pokemon.index\n",
    "      \n",
    "print(pokemon.values[1:10])\n",
    "\"Bulbasaur\" in pokemon.values"
   ]
  },
  {
   "cell_type": "markdown",
   "metadata": {},
   "source": [
    "## Extract Series Values by Index Position\n"
   ]
  },
  {
   "cell_type": "code",
   "execution_count": 58,
   "metadata": {},
   "outputs": [
    {
     "name": "stdout",
     "output_type": "stream",
     "text": [
      "Bulbasaur\n",
      "Electrode\n",
      "1       Ivysaur\n",
      "4    Charmeleon\n",
      "5     Charizard\n",
      "Name: Pokemon, dtype: object\n",
      "27    Sandslash\n",
      "28      Nidoran\n",
      "29     Nidorina\n",
      "30    Nidoqueen\n",
      "31     Nidoran♂\n",
      "32     Nidorino\n",
      "33     Nidoking\n",
      "34     Clefairy\n",
      "Name: Pokemon, dtype: object\n",
      "720    Volcanion\n",
      "Name: Pokemon, dtype: object\n",
      "701      Dedenne\n",
      "702      Carbink\n",
      "703        Goomy\n",
      "704      Sliggoo\n",
      "705       Goodra\n",
      "706       Klefki\n",
      "707     Phantump\n",
      "708    Trevenant\n",
      "709    Pumpkaboo\n",
      "710    Gourgeist\n",
      "Name: Pokemon, dtype: object\n"
     ]
    },
    {
     "data": {
      "text/plain": [
       "701      Dedenne\n",
       "702      Carbink\n",
       "703        Goomy\n",
       "704      Sliggoo\n",
       "705       Goodra\n",
       "706       Klefki\n",
       "707     Phantump\n",
       "708    Trevenant\n",
       "709    Pumpkaboo\n",
       "710    Gourgeist\n",
       "711     Bergmite\n",
       "712      Avalugg\n",
       "713       Noibat\n",
       "714      Noivern\n",
       "715      Xerneas\n",
       "716      Yveltal\n",
       "717      Zygarde\n",
       "718      Diancie\n",
       "719        Hoopa\n",
       "720    Volcanion\n",
       "Name: Pokemon, dtype: object"
      ]
     },
     "execution_count": 58,
     "metadata": {},
     "output_type": "execute_result"
    }
   ],
   "source": [
    "print(pokemon[0])\n",
    "print(pokemon[100])\n",
    "print(pokemon[[1, 4, 5]])\n",
    "print(pokemon[27:35])\n",
    "pokemon[:7]\n",
    "pokemon[700:]\n",
    "\n",
    "# pokemon[-1] Does not work\n",
    "print(pokemon[-1:])\n",
    "\n",
    "print(pokemon[-20:-10])\n",
    "pokemon[-20:]"
   ]
  },
  {
   "cell_type": "markdown",
   "metadata": {},
   "source": [
    "## Extract Series Values by Index Label\n"
   ]
  },
  {
   "cell_type": "code",
   "execution_count": 59,
   "metadata": {},
   "outputs": [
    {
     "data": {
      "text/plain": [
       "Pokemon\n",
       "Bulbasaur       Grass\n",
       "Ivysaur         Grass\n",
       "Venusaur        Grass\n",
       "Charmander       Fire\n",
       "Charmeleon       Fire\n",
       "               ...   \n",
       "Yveltal          Dark\n",
       "Zygarde        Dragon\n",
       "Diancie          Rock\n",
       "Hoopa         Psychic\n",
       "Volcanion        Fire\n",
       "Name: Type, Length: 721, dtype: object"
      ]
     },
     "execution_count": 59,
     "metadata": {},
     "output_type": "execute_result"
    }
   ],
   "source": [
    "pokemon_with_index = pokemon_index_orig\n",
    "pokemon_with_index"
   ]
  },
  {
   "cell_type": "code",
   "execution_count": 60,
   "metadata": {},
   "outputs": [
    {
     "name": "stdout",
     "output_type": "stream",
     "text": [
      "Grass\n"
     ]
    },
    {
     "data": {
      "text/plain": [
       "Pokemon\n",
       "Ivysaur       Grass\n",
       "Charmander     Fire\n",
       "Name: Type, dtype: object"
      ]
     },
     "execution_count": 60,
     "metadata": {},
     "output_type": "execute_result"
    }
   ],
   "source": [
    "print(pokemon_with_index[0])\n",
    "pokemon_with_index[[1,3]]"
   ]
  },
  {
   "cell_type": "code",
   "execution_count": 61,
   "metadata": {},
   "outputs": [
    {
     "name": "stdout",
     "output_type": "stream",
     "text": [
      "Grass\n"
     ]
    },
    {
     "data": {
      "text/plain": [
       "Pokemon\n",
       "Charizard        Fire\n",
       "Jolteon      Electric\n",
       "Name: Type, dtype: object"
      ]
     },
     "execution_count": 61,
     "metadata": {},
     "output_type": "execute_result"
    }
   ],
   "source": [
    "print(pokemon_with_index[\"Bulbasaur\"])\n",
    "pokemon_with_index[[\"Charizard\", \"Jolteon\"]]"
   ]
  },
  {
   "cell_type": "markdown",
   "metadata": {},
   "source": [
    "## The `.get()` Method on a Series\n"
   ]
  },
  {
   "cell_type": "code",
   "execution_count": 62,
   "metadata": {},
   "outputs": [
    {
     "name": "stdout",
     "output_type": "stream",
     "text": [
      "Grass\n",
      "Grass\n",
      "Pokemon\n",
      "Moltres      Fire\n",
      "Meowth     Normal\n",
      "Name: Type, dtype: object\n",
      "None\n",
      "NonExistent\n",
      "None\n"
     ]
    }
   ],
   "source": [
    "print(pokemon_with_index.get(0))\n",
    "print(pokemon_with_index.get(\"Bulbasaur\"))\n",
    "print(pokemon_with_index.get([\"Moltres\", \"Meowth\"]))\n",
    "print(pokemon_with_index.get(\"xyz\"))\n",
    "print(pokemon_with_index.get(\"xyz\", \"NonExistent\"))\n",
    "print(pokemon_with_index.get([\"Moltres\", \"y\"]))"
   ]
  },
  {
   "cell_type": "markdown",
   "metadata": {},
   "source": [
    "## Overwrite a Series value"
   ]
  },
  {
   "cell_type": "code",
   "execution_count": 63,
   "metadata": {},
   "outputs": [
    {
     "data": {
      "text/plain": [
       "0      Borisaur\n",
       "1             A\n",
       "2             B\n",
       "3    Charmander\n",
       "4             D\n",
       "Name: Pokemon, dtype: object"
      ]
     },
     "execution_count": 63,
     "metadata": {},
     "output_type": "execute_result"
    }
   ],
   "source": [
    "# Using Index Position\n",
    "\n",
    "pokemon[0] = 'Borisaur'\n",
    "pokemon[1500] = 'Hello'\n",
    "pokemon[[1,2,4]] = ['A', 'B', 'D']\n",
    "pokemon.head()"
   ]
  },
  {
   "cell_type": "code",
   "execution_count": 67,
   "metadata": {},
   "outputs": [
    {
     "data": {
      "text/plain": [
       "Pokemon\n",
       "Bulbasaur     Awesomemon\n",
       "Ivysaur            Grass\n",
       "Venusaur           Grass\n",
       "Charmander          Fire\n",
       "Charmeleon          Fire\n",
       "                 ...    \n",
       "Yveltal             Dark\n",
       "Zygarde           Dragon\n",
       "Diancie             Rock\n",
       "Hoopa            Psychic\n",
       "Volcanion           Fire\n",
       "Name: Type, Length: 721, dtype: object"
      ]
     },
     "execution_count": 67,
     "metadata": {},
     "output_type": "execute_result"
    }
   ],
   "source": [
    "# Using Index Labels\n",
    "\n",
    "pokemon_with_index[\"Bulbasaur\"] = \"Awesomemon\"\n",
    "pokemon_with_index"
   ]
  },
  {
   "cell_type": "markdown",
   "metadata": {},
   "source": [
    "## The `.copy()` Method"
   ]
  },
  {
   "cell_type": "code",
   "execution_count": 68,
   "metadata": {},
   "outputs": [],
   "source": [
    "pokemon_df = pd.read_csv(\"../Resources/pokemon.csv\", usecols=[\"Pokemon\"])\n",
    "pokemon_series = pokemon_df.squeeze(\"columns\")"
   ]
  },
  {
   "cell_type": "code",
   "execution_count": 69,
   "metadata": {},
   "outputs": [],
   "source": [
    "pokemon_series[0] = \"Whatever\""
   ]
  },
  {
   "cell_type": "code",
   "execution_count": 70,
   "metadata": {},
   "outputs": [
    {
     "data": {
      "text/plain": [
       "0    Whatever\n",
       "Name: Pokemon, dtype: object"
      ]
     },
     "execution_count": 70,
     "metadata": {},
     "output_type": "execute_result"
    }
   ],
   "source": [
    "pokemon_series.head(1)"
   ]
  },
  {
   "cell_type": "code",
   "execution_count": 71,
   "metadata": {},
   "outputs": [
    {
     "data": {
      "text/html": [
       "<div>\n",
       "<style scoped>\n",
       "    .dataframe tbody tr th:only-of-type {\n",
       "        vertical-align: middle;\n",
       "    }\n",
       "\n",
       "    .dataframe tbody tr th {\n",
       "        vertical-align: top;\n",
       "    }\n",
       "\n",
       "    .dataframe thead th {\n",
       "        text-align: right;\n",
       "    }\n",
       "</style>\n",
       "<table border=\"1\" class=\"dataframe\">\n",
       "  <thead>\n",
       "    <tr style=\"text-align: right;\">\n",
       "      <th></th>\n",
       "      <th>Pokemon</th>\n",
       "    </tr>\n",
       "  </thead>\n",
       "  <tbody>\n",
       "    <tr>\n",
       "      <th>0</th>\n",
       "      <td>Whatever</td>\n",
       "    </tr>\n",
       "  </tbody>\n",
       "</table>\n",
       "</div>"
      ],
      "text/plain": [
       "    Pokemon\n",
       "0  Whatever"
      ]
     },
     "execution_count": 71,
     "metadata": {},
     "output_type": "execute_result"
    }
   ],
   "source": [
    "pokemon_df.head(1)\n",
    "# Even if we modify values in the series, it will be reflected in the dataframe."
   ]
  },
  {
   "cell_type": "code",
   "execution_count": 72,
   "metadata": {},
   "outputs": [],
   "source": [
    "pokemon_df = pd.read_csv(\"../Resources/pokemon.csv\", usecols=[\"Pokemon\"])\n",
    "pokemon_series = pokemon_df.squeeze(\"columns\").copy()"
   ]
  },
  {
   "cell_type": "code",
   "execution_count": 73,
   "metadata": {},
   "outputs": [],
   "source": [
    "pokemon_series[0] = \"Whatever\""
   ]
  },
  {
   "cell_type": "code",
   "execution_count": 74,
   "metadata": {},
   "outputs": [
    {
     "data": {
      "text/plain": [
       "0    Whatever\n",
       "Name: Pokemon, dtype: object"
      ]
     },
     "execution_count": 74,
     "metadata": {},
     "output_type": "execute_result"
    }
   ],
   "source": [
    "pokemon_series.head(1)"
   ]
  },
  {
   "cell_type": "code",
   "execution_count": 75,
   "metadata": {},
   "outputs": [
    {
     "data": {
      "text/html": [
       "<div>\n",
       "<style scoped>\n",
       "    .dataframe tbody tr th:only-of-type {\n",
       "        vertical-align: middle;\n",
       "    }\n",
       "\n",
       "    .dataframe tbody tr th {\n",
       "        vertical-align: top;\n",
       "    }\n",
       "\n",
       "    .dataframe thead th {\n",
       "        text-align: right;\n",
       "    }\n",
       "</style>\n",
       "<table border=\"1\" class=\"dataframe\">\n",
       "  <thead>\n",
       "    <tr style=\"text-align: right;\">\n",
       "      <th></th>\n",
       "      <th>Pokemon</th>\n",
       "    </tr>\n",
       "  </thead>\n",
       "  <tbody>\n",
       "    <tr>\n",
       "      <th>0</th>\n",
       "      <td>Bulbasaur</td>\n",
       "    </tr>\n",
       "  </tbody>\n",
       "</table>\n",
       "</div>"
      ],
      "text/plain": [
       "     Pokemon\n",
       "0  Bulbasaur"
      ]
     },
     "execution_count": 75,
     "metadata": {},
     "output_type": "execute_result"
    }
   ],
   "source": [
    "pokemon_df.head(1)"
   ]
  },
  {
   "cell_type": "markdown",
   "metadata": {},
   "source": [
    "## The `inplace` parameter"
   ]
  },
  {
   "cell_type": "code",
   "execution_count": 76,
   "metadata": {},
   "outputs": [
    {
     "data": {
      "text/plain": [
       "0        50.12\n",
       "1        54.10\n",
       "2        54.65\n",
       "3        52.38\n",
       "4        52.95\n",
       "         ...  \n",
       "3007    772.88\n",
       "3008    771.07\n",
       "3009    773.18\n",
       "3010    771.61\n",
       "3011    782.22\n",
       "Name: Stock Price, Length: 3012, dtype: float64"
      ]
     },
     "execution_count": 76,
     "metadata": {},
     "output_type": "execute_result"
    }
   ],
   "source": [
    "google = google_orig.copy()\n",
    "google"
   ]
  },
  {
   "cell_type": "code",
   "execution_count": 77,
   "metadata": {},
   "outputs": [],
   "source": [
    "google = google.sort_values()\n",
    "#OR\n",
    "google.sort_values(inplace=True)\n",
    "google.sort_index(inplace=True)"
   ]
  },
  {
   "cell_type": "code",
   "execution_count": 78,
   "metadata": {},
   "outputs": [
    {
     "data": {
      "text/plain": [
       "0        50.12\n",
       "1        54.10\n",
       "2        54.65\n",
       "3        52.38\n",
       "4        52.95\n",
       "         ...  \n",
       "3007    772.88\n",
       "3008    771.07\n",
       "3009    773.18\n",
       "3010    771.61\n",
       "3011    782.22\n",
       "Name: Stock Price, Length: 3012, dtype: float64"
      ]
     },
     "execution_count": 78,
     "metadata": {},
     "output_type": "execute_result"
    }
   ],
   "source": [
    "google = google_orig\n",
    "google"
   ]
  },
  {
   "cell_type": "code",
   "execution_count": 79,
   "metadata": {},
   "outputs": [],
   "source": [
    "# google.sort_values(inplace=True) # Gives an error"
   ]
  },
  {
   "cell_type": "markdown",
   "metadata": {},
   "source": [
    "## Math methods on Series objects"
   ]
  },
  {
   "cell_type": "code",
   "execution_count": 80,
   "metadata": {},
   "outputs": [
    {
     "data": {
      "text/plain": [
       "0    50.12\n",
       "1    54.10\n",
       "2    54.65\n",
       "3    52.38\n",
       "4    52.95\n",
       "Name: Stock Price, dtype: float64"
      ]
     },
     "execution_count": 80,
     "metadata": {},
     "output_type": "execute_result"
    }
   ],
   "source": [
    "google = google_orig\n",
    "google.head()"
   ]
  },
  {
   "cell_type": "code",
   "execution_count": 81,
   "metadata": {},
   "outputs": [
    {
     "data": {
      "text/plain": [
       "count    3012.000000\n",
       "mean      334.310093\n",
       "std       173.187205\n",
       "min        49.950000\n",
       "25%       218.045000\n",
       "50%       283.315000\n",
       "75%       443.000000\n",
       "max       782.220000\n",
       "Name: Stock Price, dtype: float64"
      ]
     },
     "execution_count": 81,
     "metadata": {},
     "output_type": "execute_result"
    }
   ],
   "source": [
    "google.count() #Ignores missing values\n",
    "google.sum()\n",
    "google.mean()\n",
    "google.product()\n",
    "google.std()\n",
    "google.max()\n",
    "google.min()\n",
    "google.median()\n",
    "google.mode()\n",
    "google.describe()"
   ]
  },
  {
   "cell_type": "markdown",
   "metadata": {},
   "source": [
    "## Broadcasting"
   ]
  },
  {
   "cell_type": "code",
   "execution_count": 82,
   "metadata": {},
   "outputs": [
    {
     "data": {
      "text/plain": [
       "0        60.12\n",
       "1        64.10\n",
       "2        64.65\n",
       "3        62.38\n",
       "4        62.95\n",
       "         ...  \n",
       "3007    782.88\n",
       "3008    781.07\n",
       "3009    783.18\n",
       "3010    781.61\n",
       "3011    792.22\n",
       "Name: Stock Price, Length: 3012, dtype: float64"
      ]
     },
     "execution_count": 82,
     "metadata": {},
     "output_type": "execute_result"
    }
   ],
   "source": [
    "google + 10\n",
    "google - 30\n",
    "google * 2\n",
    "\n",
    "google.add(10)"
   ]
  },
  {
   "cell_type": "markdown",
   "metadata": {},
   "source": [
    "## The `.value_counts()` method"
   ]
  },
  {
   "cell_type": "code",
   "execution_count": 83,
   "metadata": {},
   "outputs": [
    {
     "data": {
      "text/plain": [
       "Pokemon\n",
       "Bulbasaur     Awesomemon\n",
       "Ivysaur            Grass\n",
       "Venusaur           Grass\n",
       "Charmander          Fire\n",
       "Charmeleon          Fire\n",
       "Name: Type, dtype: object"
      ]
     },
     "execution_count": 83,
     "metadata": {},
     "output_type": "execute_result"
    }
   ],
   "source": [
    "pokemon = pokemon_index_orig\n",
    "pokemon.head()"
   ]
  },
  {
   "cell_type": "code",
   "execution_count": 84,
   "metadata": {},
   "outputs": [
    {
     "data": {
      "text/plain": [
       "Type\n",
       "Water         14.563107\n",
       "Normal        12.898752\n",
       "Grass          9.015257\n",
       "Bug            8.737864\n",
       "Fire           6.518724\n",
       "Psychic        6.518724\n",
       "Rock           5.686546\n",
       "Electric       4.993065\n",
       "Ground         4.160888\n",
       "Dark           3.883495\n",
       "Poison         3.883495\n",
       "Fighting       3.467406\n",
       "Dragon         3.328710\n",
       "Ghost          3.190014\n",
       "Ice            3.190014\n",
       "Steel          3.051318\n",
       "Fairy          2.357836\n",
       "Flying         0.416089\n",
       "Awesomemon     0.138696\n",
       "Name: proportion, dtype: float64"
      ]
     },
     "execution_count": 84,
     "metadata": {},
     "output_type": "execute_result"
    }
   ],
   "source": [
    "pokemon.value_counts()\n",
    "pokemon.value_counts(ascending=True)\n",
    "pokemon.value_counts(sort=False)\n",
    "pokemon.value_counts(normalize=True) * 100"
   ]
  },
  {
   "cell_type": "markdown",
   "metadata": {},
   "source": [
    "## The `.apply()` Method\n"
   ]
  },
  {
   "cell_type": "code",
   "execution_count": 85,
   "metadata": {},
   "outputs": [
    {
     "name": "stdout",
     "output_type": "stream",
     "text": [
      "Pokemon\n",
      "Bulbasaur     10\n",
      "Ivysaur        5\n",
      "Venusaur       5\n",
      "Charmander     4\n",
      "Charmeleon     4\n",
      "              ..\n",
      "Yveltal        4\n",
      "Zygarde        6\n",
      "Diancie        4\n",
      "Hoopa          7\n",
      "Volcanion      4\n",
      "Name: Type, Length: 721, dtype: int64\n"
     ]
    },
    {
     "data": {
      "text/plain": [
       "Pokemon\n",
       "Bulbasaur         TBD\n",
       "Ivysaur       Classic\n",
       "Venusaur      Classic\n",
       "Charmander    Classic\n",
       "Charmeleon    Classic\n",
       "               ...   \n",
       "Yveltal           TBD\n",
       "Zygarde           TBD\n",
       "Diancie           TBD\n",
       "Hoopa             TBD\n",
       "Volcanion     Classic\n",
       "Name: Type, Length: 721, dtype: object"
      ]
     },
     "execution_count": 85,
     "metadata": {},
     "output_type": "execute_result"
    }
   ],
   "source": [
    "# Pass each value of the series to the function provided as an argument.\n",
    "\n",
    "print(pokemon_with_index.apply(len))\n",
    "\n",
    "\n",
    "def rank_pokemon(pokemon_type):\n",
    "    if pokemon_type in [\"Grass\", \"Fire\", \"Water\"]:\n",
    "        return \"Classic\"\n",
    "    elif pokemon_type == \"Normal\":\n",
    "        return \"Boring\"\n",
    "    else:\n",
    "        return \"TBD\"\n",
    "\n",
    "\n",
    "pokemon_with_index.apply(rank_pokemon)"
   ]
  },
  {
   "cell_type": "markdown",
   "metadata": {},
   "source": [
    "## The `.map()` Method\n"
   ]
  },
  {
   "cell_type": "code",
   "execution_count": 86,
   "metadata": {},
   "outputs": [
    {
     "data": {
      "text/plain": [
       "Pokemon\n",
       "Bulbasaur         NaN\n",
       "Ivysaur       Classic\n",
       "Venusaur      Classic\n",
       "Charmander    Classic\n",
       "Charmeleon    Classic\n",
       "               ...   \n",
       "Yveltal           NaN\n",
       "Zygarde           NaN\n",
       "Diancie           NaN\n",
       "Hoopa             NaN\n",
       "Volcanion     Classic\n",
       "Name: Type, Length: 721, dtype: object"
      ]
     },
     "execution_count": 86,
     "metadata": {},
     "output_type": "execute_result"
    }
   ],
   "source": [
    "mappings = {\n",
    "    \"Grass\": \"Classic\",\n",
    "    \"Fire\": \"Classic\",\n",
    "    \"Water\": \"Classic\",\n",
    "    \"Normal\": \"Boring\",\n",
    "}\n",
    "\n",
    "mapping_series = pd.Series(mappings)\n",
    "\n",
    "pokemon_with_index.map(mappings)"
   ]
  },
  {
   "cell_type": "code",
   "execution_count": 87,
   "metadata": {},
   "outputs": [
    {
     "data": {
      "text/plain": [
       "Pokemon\n",
       "Bulbasaur         NaN\n",
       "Ivysaur       Classic\n",
       "Venusaur      Classic\n",
       "Charmander    Classic\n",
       "Charmeleon    Classic\n",
       "               ...   \n",
       "Yveltal           NaN\n",
       "Zygarde           NaN\n",
       "Diancie           NaN\n",
       "Hoopa             NaN\n",
       "Volcanion     Classic\n",
       "Name: Type, Length: 721, dtype: object"
      ]
     },
     "execution_count": 87,
     "metadata": {},
     "output_type": "execute_result"
    }
   ],
   "source": [
    "pokemon_with_index.map(mapping_series)  # Values in pokemon_with_index will be checked in the index label of mapping_series"
   ]
  }
 ],
 "metadata": {
  "kernelspec": {
   "display_name": "Python 3 (ipykernel)",
   "language": "python",
   "name": "python3"
  },
  "language_info": {
   "codemirror_mode": {
    "name": "ipython",
    "version": 3
   },
   "file_extension": ".py",
   "mimetype": "text/x-python",
   "name": "python",
   "nbconvert_exporter": "python",
   "pygments_lexer": "ipython3",
   "version": "3.8.16"
  }
 },
 "nbformat": 4,
 "nbformat_minor": 2
}
