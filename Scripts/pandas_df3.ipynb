{
 "cells": [
  {
   "cell_type": "code",
   "execution_count": 2,
   "metadata": {},
   "outputs": [],
   "source": [
    "import pandas as pd"
   ]
  },
  {
   "attachments": {},
   "cell_type": "markdown",
   "metadata": {},
   "source": [
    "### The `.set_index()` and `.reset_index()` Methods\n"
   ]
  },
  {
   "cell_type": "code",
   "execution_count": 3,
   "metadata": {},
   "outputs": [
    {
     "data": {
      "text/html": [
       "<div>\n",
       "<style scoped>\n",
       "    .dataframe tbody tr th:only-of-type {\n",
       "        vertical-align: middle;\n",
       "    }\n",
       "\n",
       "    .dataframe tbody tr th {\n",
       "        vertical-align: top;\n",
       "    }\n",
       "\n",
       "    .dataframe thead th {\n",
       "        text-align: right;\n",
       "    }\n",
       "</style>\n",
       "<table border=\"1\" class=\"dataframe\">\n",
       "  <thead>\n",
       "    <tr style=\"text-align: right;\">\n",
       "      <th></th>\n",
       "      <th>Film</th>\n",
       "      <th>Year</th>\n",
       "      <th>Actor</th>\n",
       "      <th>Director</th>\n",
       "      <th>Box Office</th>\n",
       "      <th>Budget</th>\n",
       "      <th>Bond Actor Salary</th>\n",
       "    </tr>\n",
       "  </thead>\n",
       "  <tbody>\n",
       "    <tr>\n",
       "      <th>0</th>\n",
       "      <td>Dr. No</td>\n",
       "      <td>1962</td>\n",
       "      <td>Sean Connery</td>\n",
       "      <td>Terence Young</td>\n",
       "      <td>448.8</td>\n",
       "      <td>7.0</td>\n",
       "      <td>0.6</td>\n",
       "    </tr>\n",
       "    <tr>\n",
       "      <th>1</th>\n",
       "      <td>From Russia with Love</td>\n",
       "      <td>1963</td>\n",
       "      <td>Sean Connery</td>\n",
       "      <td>Terence Young</td>\n",
       "      <td>543.8</td>\n",
       "      <td>12.6</td>\n",
       "      <td>1.6</td>\n",
       "    </tr>\n",
       "    <tr>\n",
       "      <th>2</th>\n",
       "      <td>Goldfinger</td>\n",
       "      <td>1964</td>\n",
       "      <td>Sean Connery</td>\n",
       "      <td>Guy Hamilton</td>\n",
       "      <td>820.4</td>\n",
       "      <td>18.6</td>\n",
       "      <td>3.2</td>\n",
       "    </tr>\n",
       "    <tr>\n",
       "      <th>3</th>\n",
       "      <td>Thunderball</td>\n",
       "      <td>1965</td>\n",
       "      <td>Sean Connery</td>\n",
       "      <td>Terence Young</td>\n",
       "      <td>848.1</td>\n",
       "      <td>41.9</td>\n",
       "      <td>4.7</td>\n",
       "    </tr>\n",
       "    <tr>\n",
       "      <th>4</th>\n",
       "      <td>Casino Royale</td>\n",
       "      <td>1967</td>\n",
       "      <td>David Niven</td>\n",
       "      <td>Ken Hughes</td>\n",
       "      <td>315.0</td>\n",
       "      <td>85.0</td>\n",
       "      <td>NaN</td>\n",
       "    </tr>\n",
       "  </tbody>\n",
       "</table>\n",
       "</div>"
      ],
      "text/plain": [
       "                    Film  Year         Actor       Director  Box Office  \\\n",
       "0                 Dr. No  1962  Sean Connery  Terence Young       448.8   \n",
       "1  From Russia with Love  1963  Sean Connery  Terence Young       543.8   \n",
       "2             Goldfinger  1964  Sean Connery   Guy Hamilton       820.4   \n",
       "3            Thunderball  1965  Sean Connery  Terence Young       848.1   \n",
       "4          Casino Royale  1967   David Niven     Ken Hughes       315.0   \n",
       "\n",
       "   Budget  Bond Actor Salary  \n",
       "0     7.0                0.6  \n",
       "1    12.6                1.6  \n",
       "2    18.6                3.2  \n",
       "3    41.9                4.7  \n",
       "4    85.0                NaN  "
      ]
     },
     "execution_count": 3,
     "metadata": {},
     "output_type": "execute_result"
    }
   ],
   "source": [
    "bond = pd.read_csv(\"../Resources/jamesbond.csv\", index_col=\"Film\")\n",
    "# OR\n",
    "bond = pd.read_csv(\"../Resources/jamesbond.csv\")\n",
    "bond.set_index(\"Film\", inplace=False)\n",
    "\n",
    "bond.reset_index(drop=True, inplace=True)\n",
    "bond.head()"
   ]
  },
  {
   "cell_type": "code",
   "execution_count": 25,
   "metadata": {},
   "outputs": [
    {
     "data": {
      "text/html": [
       "<div>\n",
       "<style scoped>\n",
       "    .dataframe tbody tr th:only-of-type {\n",
       "        vertical-align: middle;\n",
       "    }\n",
       "\n",
       "    .dataframe tbody tr th {\n",
       "        vertical-align: top;\n",
       "    }\n",
       "\n",
       "    .dataframe thead th {\n",
       "        text-align: right;\n",
       "    }\n",
       "</style>\n",
       "<table border=\"1\" class=\"dataframe\">\n",
       "  <thead>\n",
       "    <tr style=\"text-align: right;\">\n",
       "      <th></th>\n",
       "      <th>Actor</th>\n",
       "      <th>Director</th>\n",
       "      <th>Box Office</th>\n",
       "      <th>Budget</th>\n",
       "      <th>Bond Actor Salary</th>\n",
       "    </tr>\n",
       "    <tr>\n",
       "      <th>Year</th>\n",
       "      <th></th>\n",
       "      <th></th>\n",
       "      <th></th>\n",
       "      <th></th>\n",
       "      <th></th>\n",
       "    </tr>\n",
       "  </thead>\n",
       "  <tbody>\n",
       "    <tr>\n",
       "      <th>1962</th>\n",
       "      <td>Sean Connery</td>\n",
       "      <td>Terence Young</td>\n",
       "      <td>448.8</td>\n",
       "      <td>7.0</td>\n",
       "      <td>0.6</td>\n",
       "    </tr>\n",
       "    <tr>\n",
       "      <th>1963</th>\n",
       "      <td>Sean Connery</td>\n",
       "      <td>Terence Young</td>\n",
       "      <td>543.8</td>\n",
       "      <td>12.6</td>\n",
       "      <td>1.6</td>\n",
       "    </tr>\n",
       "    <tr>\n",
       "      <th>1964</th>\n",
       "      <td>Sean Connery</td>\n",
       "      <td>Guy Hamilton</td>\n",
       "      <td>820.4</td>\n",
       "      <td>18.6</td>\n",
       "      <td>3.2</td>\n",
       "    </tr>\n",
       "    <tr>\n",
       "      <th>1965</th>\n",
       "      <td>Sean Connery</td>\n",
       "      <td>Terence Young</td>\n",
       "      <td>848.1</td>\n",
       "      <td>41.9</td>\n",
       "      <td>4.7</td>\n",
       "    </tr>\n",
       "    <tr>\n",
       "      <th>1967</th>\n",
       "      <td>David Niven</td>\n",
       "      <td>Ken Hughes</td>\n",
       "      <td>315.0</td>\n",
       "      <td>85.0</td>\n",
       "      <td>NaN</td>\n",
       "    </tr>\n",
       "  </tbody>\n",
       "</table>\n",
       "</div>"
      ],
      "text/plain": [
       "             Actor       Director  Box Office  Budget  Bond Actor Salary\n",
       "Year                                                                    \n",
       "1962  Sean Connery  Terence Young       448.8     7.0                0.6\n",
       "1963  Sean Connery  Terence Young       543.8    12.6                1.6\n",
       "1964  Sean Connery   Guy Hamilton       820.4    18.6                3.2\n",
       "1965  Sean Connery  Terence Young       848.1    41.9                4.7\n",
       "1967   David Niven     Ken Hughes       315.0    85.0                NaN"
      ]
     },
     "execution_count": 25,
     "metadata": {},
     "output_type": "execute_result"
    }
   ],
   "source": [
    "bond.set_index(\"Film\", inplace=True)\n",
    "bond.set_index(\n",
    "    \"Year\", inplace=True\n",
    ")  # Second set_index statement will remove \"Film\" from the dataframe entirely.\n",
    "# Use combination of set_index and reset_index to avoid that from happening. See next cell.\n",
    "bond.head()"
   ]
  },
  {
   "cell_type": "code",
   "execution_count": 28,
   "metadata": {},
   "outputs": [
    {
     "data": {
      "text/html": [
       "<div>\n",
       "<style scoped>\n",
       "    .dataframe tbody tr th:only-of-type {\n",
       "        vertical-align: middle;\n",
       "    }\n",
       "\n",
       "    .dataframe tbody tr th {\n",
       "        vertical-align: top;\n",
       "    }\n",
       "\n",
       "    .dataframe thead th {\n",
       "        text-align: right;\n",
       "    }\n",
       "</style>\n",
       "<table border=\"1\" class=\"dataframe\">\n",
       "  <thead>\n",
       "    <tr style=\"text-align: right;\">\n",
       "      <th></th>\n",
       "      <th>Film</th>\n",
       "      <th>Actor</th>\n",
       "      <th>Director</th>\n",
       "      <th>Box Office</th>\n",
       "      <th>Budget</th>\n",
       "      <th>Bond Actor Salary</th>\n",
       "    </tr>\n",
       "    <tr>\n",
       "      <th>Year</th>\n",
       "      <th></th>\n",
       "      <th></th>\n",
       "      <th></th>\n",
       "      <th></th>\n",
       "      <th></th>\n",
       "      <th></th>\n",
       "    </tr>\n",
       "  </thead>\n",
       "  <tbody>\n",
       "    <tr>\n",
       "      <th>1962</th>\n",
       "      <td>Dr. No</td>\n",
       "      <td>Sean Connery</td>\n",
       "      <td>Terence Young</td>\n",
       "      <td>448.8</td>\n",
       "      <td>7.0</td>\n",
       "      <td>0.6</td>\n",
       "    </tr>\n",
       "    <tr>\n",
       "      <th>1963</th>\n",
       "      <td>From Russia with Love</td>\n",
       "      <td>Sean Connery</td>\n",
       "      <td>Terence Young</td>\n",
       "      <td>543.8</td>\n",
       "      <td>12.6</td>\n",
       "      <td>1.6</td>\n",
       "    </tr>\n",
       "    <tr>\n",
       "      <th>1964</th>\n",
       "      <td>Goldfinger</td>\n",
       "      <td>Sean Connery</td>\n",
       "      <td>Guy Hamilton</td>\n",
       "      <td>820.4</td>\n",
       "      <td>18.6</td>\n",
       "      <td>3.2</td>\n",
       "    </tr>\n",
       "    <tr>\n",
       "      <th>1965</th>\n",
       "      <td>Thunderball</td>\n",
       "      <td>Sean Connery</td>\n",
       "      <td>Terence Young</td>\n",
       "      <td>848.1</td>\n",
       "      <td>41.9</td>\n",
       "      <td>4.7</td>\n",
       "    </tr>\n",
       "    <tr>\n",
       "      <th>1967</th>\n",
       "      <td>Casino Royale</td>\n",
       "      <td>David Niven</td>\n",
       "      <td>Ken Hughes</td>\n",
       "      <td>315.0</td>\n",
       "      <td>85.0</td>\n",
       "      <td>NaN</td>\n",
       "    </tr>\n",
       "  </tbody>\n",
       "</table>\n",
       "</div>"
      ],
      "text/plain": [
       "                       Film         Actor       Director  Box Office  Budget  \\\n",
       "Year                                                                           \n",
       "1962                 Dr. No  Sean Connery  Terence Young       448.8     7.0   \n",
       "1963  From Russia with Love  Sean Connery  Terence Young       543.8    12.6   \n",
       "1964             Goldfinger  Sean Connery   Guy Hamilton       820.4    18.6   \n",
       "1965            Thunderball  Sean Connery  Terence Young       848.1    41.9   \n",
       "1967          Casino Royale   David Niven     Ken Hughes       315.0    85.0   \n",
       "\n",
       "      Bond Actor Salary  \n",
       "Year                     \n",
       "1962                0.6  \n",
       "1963                1.6  \n",
       "1964                3.2  \n",
       "1965                4.7  \n",
       "1967                NaN  "
      ]
     },
     "execution_count": 28,
     "metadata": {},
     "output_type": "execute_result"
    }
   ],
   "source": [
    "bond.set_index(\"Film\", inplace=True)\n",
    "bond.reset_index(inplace=True)\n",
    "bond.set_index(\"Year\", inplace=True)\n",
    "bond.head()"
   ]
  },
  {
   "attachments": {},
   "cell_type": "markdown",
   "metadata": {},
   "source": [
    "### Importing the dataset\n"
   ]
  },
  {
   "cell_type": "code",
   "execution_count": 33,
   "metadata": {},
   "outputs": [],
   "source": [
    "bond_label_orig = pd.read_csv(\"../Resources/jamesbond.csv\", index_col=\"Film\")\n",
    "bond_pos_orig = pd.read_csv(\"../Resources/jamesbond.csv\")"
   ]
  },
  {
   "attachments": {},
   "cell_type": "markdown",
   "metadata": {},
   "source": [
    "### Retrieve Rows by Index Label with `.loc[]` Accessor\n"
   ]
  },
  {
   "cell_type": "code",
   "execution_count": 34,
   "metadata": {},
   "outputs": [
    {
     "name": "stdout",
     "output_type": "stream",
     "text": [
      "                       Year         Actor       Director  Box Office  Budget  \\\n",
      "Film                                                                           \n",
      "Dr. No                 1962  Sean Connery  Terence Young       448.8     7.0   \n",
      "From Russia with Love  1963  Sean Connery  Terence Young       543.8    12.6   \n",
      "Goldfinger             1964  Sean Connery   Guy Hamilton       820.4    18.6   \n",
      "Thunderball            1965  Sean Connery  Terence Young       848.1    41.9   \n",
      "Casino Royale          1967   David Niven     Ken Hughes       315.0    85.0   \n",
      "\n",
      "                       Bond Actor Salary  \n",
      "Film                                      \n",
      "Dr. No                               0.6  \n",
      "From Russia with Love                1.6  \n",
      "Goldfinger                           3.2  \n",
      "Thunderball                          4.7  \n",
      "Casino Royale                        NaN  \n"
     ]
    },
    {
     "data": {
      "text/plain": [
       "False"
      ]
     },
     "execution_count": 34,
     "metadata": {},
     "output_type": "execute_result"
    }
   ],
   "source": [
    "bond = bond_label_orig\n",
    "print(bond.head())\n",
    "bond.sort_index(inplace=True)\n",
    "bond.loc[\"Goldfinger\"]  # returns pandas series\n",
    "bond.loc[\"Casino Royale\"]  # returns pandas dataframe because this label is present multiple times\n",
    "\n",
    "bond.loc[\"Diamonds Are Forever\":\"From Russia with Love\"]  # Final row is inclusive\n",
    "bond.loc[\"Diamonds Are Forever\":\"From Russia with Love\":2]\n",
    "bond.loc[\"GoldenEye\":]\n",
    "bond.loc[:\"On Her Majesty's Secret Service\"]\n",
    "\n",
    "bond.loc[[\"Die Another Day\", \"Octopussy\"]]\n",
    "bond.loc[[\"Octopussy\", \"Die Another Day\"]]\n",
    "\n",
    "\"Gold Bond\" in bond.index\n",
    "# bond.loc[[\"Octopussy\", \"Die Another Day\", \"Gold Bond\"]]  # Gives error even if one of the element in list is absent in index"
   ]
  },
  {
   "attachments": {},
   "cell_type": "markdown",
   "metadata": {},
   "source": [
    "### Retrieve Rows by Index Position with `.iloc[]` Accessor\n"
   ]
  },
  {
   "cell_type": "code",
   "execution_count": 39,
   "metadata": {},
   "outputs": [
    {
     "name": "stdout",
     "output_type": "stream",
     "text": [
      "                    Film  Year         Actor       Director  Box Office  \\\n",
      "0                 Dr. No  1962  Sean Connery  Terence Young       448.8   \n",
      "1  From Russia with Love  1963  Sean Connery  Terence Young       543.8   \n",
      "2             Goldfinger  1964  Sean Connery   Guy Hamilton       820.4   \n",
      "3            Thunderball  1965  Sean Connery  Terence Young       848.1   \n",
      "4          Casino Royale  1967   David Niven     Ken Hughes       315.0   \n",
      "\n",
      "   Budget  Bond Actor Salary  \n",
      "0     7.0                0.6  \n",
      "1    12.6                1.6  \n",
      "2    18.6                3.2  \n",
      "3    41.9                4.7  \n",
      "4    85.0                NaN  \n"
     ]
    },
    {
     "data": {
      "text/plain": [
       "Film                        Dr. No\n",
       "Year                          1962\n",
       "Actor                 Sean Connery\n",
       "Director             Terence Young\n",
       "Box Office                   448.8\n",
       "Budget                         7.0\n",
       "Bond Actor Salary              0.6\n",
       "Name: 0, dtype: object"
      ]
     },
     "execution_count": 39,
     "metadata": {},
     "output_type": "execute_result"
    }
   ],
   "source": [
    "bond = bond_pos_orig\n",
    "print(bond.head())\n",
    "bond.sort_index(inplace=True)\n",
    "bond.head()\n",
    "bond.loc[0]  # returns pandas series\n",
    "\n",
    "# bond.iloc[4:8]  # Final row is exclusive\n",
    "# bond.loc[4:20:2]\n",
    "# bond.loc[20:]\n",
    "# bond.loc[:4]\n",
    "\n",
    "# bond.iloc[[15, 20]]\n",
    "# bond.iloc[[20, 15]]\n",
    "\n",
    "# bond.set_index(\"Film\", inplace=True)\n",
    "# bond.sort_index()\n",
    "# bond.head()\n",
    "\n",
    "# bond.loc[\"GoldenEye\"]\n",
    "# bond.iloc[3]"
   ]
  },
  {
   "cell_type": "code",
   "execution_count": null,
   "metadata": {},
   "outputs": [],
   "source": []
  }
 ],
 "metadata": {
  "kernelspec": {
   "display_name": "myEnv001",
   "language": "python",
   "name": "python3"
  },
  "language_info": {
   "codemirror_mode": {
    "name": "ipython",
    "version": 3
   },
   "file_extension": ".py",
   "mimetype": "text/x-python",
   "name": "python",
   "nbconvert_exporter": "python",
   "pygments_lexer": "ipython3",
   "version": "3.11.2"
  },
  "orig_nbformat": 4
 },
 "nbformat": 4,
 "nbformat_minor": 2
}
